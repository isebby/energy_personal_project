{
 "cells": [
  {
   "cell_type": "code",
   "execution_count": 2,
   "metadata": {},
   "outputs": [],
   "source": [
    "from datetime import datetime, timedelta\n",
    "import requests\n",
    "import sqlalchemy\n",
    "import json\n",
    "import pandas as pd"
   ]
  },
  {
   "cell_type": "code",
   "execution_count": 5,
   "metadata": {},
   "outputs": [],
   "source": [
    "data = pd.read_excel(\n",
    "    \"https://www.iso-ne.com/static-assets/documents/2023/01/2023_daygenbyfuel.xlsx\",\n",
    "    sheet_name=\"DAYGENBYFUEL\",\n",
    ")"
   ]
  },
  {
   "cell_type": "code",
   "execution_count": null,
   "metadata": {},
   "outputs": [],
   "source": [
    "with open(\"credentials.json\", \"r\") as fp:\n",
    "    server_details = json.load(fp)\n",
    "\n",
    "server_details[\"database\"] = \"isebby_energyproject\"\n",
    "\n",
    "connection_string = sqlalchemy.URL.create(\"mysql+pymysql\", **server_details)\n",
    "\n",
    "engine = sqlalchemy.create_engine(connection_string)"
   ]
  }
 ],
 "metadata": {
  "kernelspec": {
   "display_name": "Python 3",
   "language": "python",
   "name": "python3"
  },
  "language_info": {
   "codemirror_mode": {
    "name": "ipython",
    "version": 3
   },
   "file_extension": ".py",
   "mimetype": "text/x-python",
   "name": "python",
   "nbconvert_exporter": "python",
   "pygments_lexer": "ipython3",
   "version": "3.11.5"
  }
 },
 "nbformat": 4,
 "nbformat_minor": 2
}
